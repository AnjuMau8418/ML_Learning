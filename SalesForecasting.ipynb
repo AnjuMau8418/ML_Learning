{
  "nbformat": 4,
  "nbformat_minor": 0,
  "metadata": {
    "colab": {
      "provenance": [],
      "authorship_tag": "ABX9TyP3xVwbaFybOTekzCYAz/jV",
      "include_colab_link": true
    },
    "kernelspec": {
      "name": "python3",
      "display_name": "Python 3"
    },
    "language_info": {
      "name": "python"
    }
  },
  "cells": [
    {
      "cell_type": "markdown",
      "metadata": {
        "id": "view-in-github",
        "colab_type": "text"
      },
      "source": [
        "<a href=\"https://colab.research.google.com/github/AnjuMau8418/ML_Learning/blob/main/SalesForecasting.ipynb\" target=\"_parent\"><img src=\"https://colab.research.google.com/assets/colab-badge.svg\" alt=\"Open In Colab\"/></a>"
      ]
    },
    {
      "cell_type": "code",
      "execution_count": null,
      "metadata": {
        "colab": {
          "base_uri": "https://localhost:8080/"
        },
        "id": "3GCdbxHjvSrQ",
        "outputId": "4f684d82-a896-4b95-f6ce-1c0099c51a93"
      },
      "outputs": [
        {
          "output_type": "stream",
          "name": "stdout",
          "text": [
            "\u001b[2K     \u001b[90m━━━━━━━━━━━━━━━━━━━━━━━━━━━━━━━━━━━━━━━\u001b[0m \u001b[32m125.4/125.4 kB\u001b[0m \u001b[31m4.7 MB/s\u001b[0m eta \u001b[36m0:00:00\u001b[0m\n",
            "\u001b[2K     \u001b[90m━━━━━━━━━━━━━━━━━━━━━━━━━━━━━━━━━━━━━━━━\u001b[0m \u001b[32m98.6/98.6 MB\u001b[0m \u001b[31m10.0 MB/s\u001b[0m eta \u001b[36m0:00:00\u001b[0m\n",
            "\u001b[2K     \u001b[90m━━━━━━━━━━━━━━━━━━━━━━━━━━━━━━━━━━━━━━━━\u001b[0m \u001b[32m1.5/1.5 MB\u001b[0m \u001b[31m32.4 MB/s\u001b[0m eta \u001b[36m0:00:00\u001b[0m\n",
            "\u001b[2K     \u001b[90m━━━━━━━━━━━━━━━━━━━━━━━━━━━━━━━━━━━━━━━━\u001b[0m \u001b[32m2.0/2.0 MB\u001b[0m \u001b[31m40.3 MB/s\u001b[0m eta \u001b[36m0:00:00\u001b[0m\n",
            "\u001b[?25h"
          ]
        }
      ],
      "source": [
        "%pip install -Uq upgini catboost"
      ]
    },
    {
      "cell_type": "code",
      "source": [
        "from os.path import exists\n",
        "import pandas as pd\n",
        "\n",
        "df_path = \"train.csv.zip\" if exists(\"train.csv.zip\") else \"https://github.com/upgini/upgini/raw/main/notebooks/train.csv.zip\"\n",
        "df = pd.read_csv(df_path)\n",
        "df = df.sample(n=19_000, random_state=0)\n",
        "df[\"store\"] = df[\"store\"].astype(str)\n",
        "df[\"item\"] = df[\"item\"].astype(str)\n",
        "\n",
        "df[\"date\"] = pd.to_datetime(df[\"date\"])\n",
        "\n",
        "df.sort_values(\"date\",inplace=True)\n",
        "df.reset_index(inplace=True, drop=True)\n",
        "df.head()\n",
        "\n"
      ],
      "metadata": {
        "colab": {
          "base_uri": "https://localhost:8080/",
          "height": 206
        },
        "id": "G7f2fL-zw1Kw",
        "outputId": "b53a27c0-0d5c-4111-aecd-119b235ab8c6"
      },
      "execution_count": null,
      "outputs": [
        {
          "output_type": "execute_result",
          "data": {
            "text/plain": [
              "        date store item  sales\n",
              "0 2013-01-01     7    5      5\n",
              "1 2013-01-01     4    9     19\n",
              "2 2013-01-01     1   33     37\n",
              "3 2013-01-01     3   41     14\n",
              "4 2013-01-01     5   24     26"
            ],
            "text/html": [
              "\n",
              "  <div id=\"df-ad6ecfd8-2fb5-43e3-8e46-90c5e3c32668\">\n",
              "    <div class=\"colab-df-container\">\n",
              "      <div>\n",
              "<style scoped>\n",
              "    .dataframe tbody tr th:only-of-type {\n",
              "        vertical-align: middle;\n",
              "    }\n",
              "\n",
              "    .dataframe tbody tr th {\n",
              "        vertical-align: top;\n",
              "    }\n",
              "\n",
              "    .dataframe thead th {\n",
              "        text-align: right;\n",
              "    }\n",
              "</style>\n",
              "<table border=\"1\" class=\"dataframe\">\n",
              "  <thead>\n",
              "    <tr style=\"text-align: right;\">\n",
              "      <th></th>\n",
              "      <th>date</th>\n",
              "      <th>store</th>\n",
              "      <th>item</th>\n",
              "      <th>sales</th>\n",
              "    </tr>\n",
              "  </thead>\n",
              "  <tbody>\n",
              "    <tr>\n",
              "      <th>0</th>\n",
              "      <td>2013-01-01</td>\n",
              "      <td>7</td>\n",
              "      <td>5</td>\n",
              "      <td>5</td>\n",
              "    </tr>\n",
              "    <tr>\n",
              "      <th>1</th>\n",
              "      <td>2013-01-01</td>\n",
              "      <td>4</td>\n",
              "      <td>9</td>\n",
              "      <td>19</td>\n",
              "    </tr>\n",
              "    <tr>\n",
              "      <th>2</th>\n",
              "      <td>2013-01-01</td>\n",
              "      <td>1</td>\n",
              "      <td>33</td>\n",
              "      <td>37</td>\n",
              "    </tr>\n",
              "    <tr>\n",
              "      <th>3</th>\n",
              "      <td>2013-01-01</td>\n",
              "      <td>3</td>\n",
              "      <td>41</td>\n",
              "      <td>14</td>\n",
              "    </tr>\n",
              "    <tr>\n",
              "      <th>4</th>\n",
              "      <td>2013-01-01</td>\n",
              "      <td>5</td>\n",
              "      <td>24</td>\n",
              "      <td>26</td>\n",
              "    </tr>\n",
              "  </tbody>\n",
              "</table>\n",
              "</div>\n",
              "      <button class=\"colab-df-convert\" onclick=\"convertToInteractive('df-ad6ecfd8-2fb5-43e3-8e46-90c5e3c32668')\"\n",
              "              title=\"Convert this dataframe to an interactive table.\"\n",
              "              style=\"display:none;\">\n",
              "        \n",
              "  <svg xmlns=\"http://www.w3.org/2000/svg\" height=\"24px\"viewBox=\"0 0 24 24\"\n",
              "       width=\"24px\">\n",
              "    <path d=\"M0 0h24v24H0V0z\" fill=\"none\"/>\n",
              "    <path d=\"M18.56 5.44l.94 2.06.94-2.06 2.06-.94-2.06-.94-.94-2.06-.94 2.06-2.06.94zm-11 1L8.5 8.5l.94-2.06 2.06-.94-2.06-.94L8.5 2.5l-.94 2.06-2.06.94zm10 10l.94 2.06.94-2.06 2.06-.94-2.06-.94-.94-2.06-.94 2.06-2.06.94z\"/><path d=\"M17.41 7.96l-1.37-1.37c-.4-.4-.92-.59-1.43-.59-.52 0-1.04.2-1.43.59L10.3 9.45l-7.72 7.72c-.78.78-.78 2.05 0 2.83L4 21.41c.39.39.9.59 1.41.59.51 0 1.02-.2 1.41-.59l7.78-7.78 2.81-2.81c.8-.78.8-2.07 0-2.86zM5.41 20L4 18.59l7.72-7.72 1.47 1.35L5.41 20z\"/>\n",
              "  </svg>\n",
              "      </button>\n",
              "      \n",
              "  <style>\n",
              "    .colab-df-container {\n",
              "      display:flex;\n",
              "      flex-wrap:wrap;\n",
              "      gap: 12px;\n",
              "    }\n",
              "\n",
              "    .colab-df-convert {\n",
              "      background-color: #E8F0FE;\n",
              "      border: none;\n",
              "      border-radius: 50%;\n",
              "      cursor: pointer;\n",
              "      display: none;\n",
              "      fill: #1967D2;\n",
              "      height: 32px;\n",
              "      padding: 0 0 0 0;\n",
              "      width: 32px;\n",
              "    }\n",
              "\n",
              "    .colab-df-convert:hover {\n",
              "      background-color: #E2EBFA;\n",
              "      box-shadow: 0px 1px 2px rgba(60, 64, 67, 0.3), 0px 1px 3px 1px rgba(60, 64, 67, 0.15);\n",
              "      fill: #174EA6;\n",
              "    }\n",
              "\n",
              "    [theme=dark] .colab-df-convert {\n",
              "      background-color: #3B4455;\n",
              "      fill: #D2E3FC;\n",
              "    }\n",
              "\n",
              "    [theme=dark] .colab-df-convert:hover {\n",
              "      background-color: #434B5C;\n",
              "      box-shadow: 0px 1px 3px 1px rgba(0, 0, 0, 0.15);\n",
              "      filter: drop-shadow(0px 1px 2px rgba(0, 0, 0, 0.3));\n",
              "      fill: #FFFFFF;\n",
              "    }\n",
              "  </style>\n",
              "\n",
              "      <script>\n",
              "        const buttonEl =\n",
              "          document.querySelector('#df-ad6ecfd8-2fb5-43e3-8e46-90c5e3c32668 button.colab-df-convert');\n",
              "        buttonEl.style.display =\n",
              "          google.colab.kernel.accessAllowed ? 'block' : 'none';\n",
              "\n",
              "        async function convertToInteractive(key) {\n",
              "          const element = document.querySelector('#df-ad6ecfd8-2fb5-43e3-8e46-90c5e3c32668');\n",
              "          const dataTable =\n",
              "            await google.colab.kernel.invokeFunction('convertToInteractive',\n",
              "                                                     [key], {});\n",
              "          if (!dataTable) return;\n",
              "\n",
              "          const docLinkHtml = 'Like what you see? Visit the ' +\n",
              "            '<a target=\"_blank\" href=https://colab.research.google.com/notebooks/data_table.ipynb>data table notebook</a>'\n",
              "            + ' to learn more about interactive tables.';\n",
              "          element.innerHTML = '';\n",
              "          dataTable['output_type'] = 'display_data';\n",
              "          await google.colab.output.renderOutput(dataTable, element);\n",
              "          const docLink = document.createElement('div');\n",
              "          docLink.innerHTML = docLinkHtml;\n",
              "          element.appendChild(docLink);\n",
              "        }\n",
              "      </script>\n",
              "    </div>\n",
              "  </div>\n",
              "  "
            ]
          },
          "metadata": {},
          "execution_count": 3
        }
      ]
    },
    {
      "cell_type": "code",
      "source": [
        "train = df[df[\"date\"] < \"2017-01-01\"]\n",
        "test = df[df[\"date\"] >= \"2017-01-01\"]"
      ],
      "metadata": {
        "id": "mIj65zL32RIw"
      },
      "execution_count": null,
      "outputs": []
    },
    {
      "cell_type": "code",
      "source": [
        "train_features = train.drop(columns=['sales'])\n",
        "train_target = train[\"sales\"]\n",
        "test_features = test.drop(columns=[\"sales\"])\n",
        "test_target = test[\"sales\"]"
      ],
      "metadata": {
        "id": "e3elluPk2vz5"
      },
      "execution_count": null,
      "outputs": []
    },
    {
      "cell_type": "code",
      "source": [
        "from upgini import FeaturesEnricher, SearchKey\n",
        "from upgini.metadata import CVType\n",
        "\n",
        "enricher = FeaturesEnricher(\n",
        "    search_keys= {\n",
        "        \"date\": SearchKey.DATE,\n",
        "    },\n",
        "    cv = CVType.time_series\n",
        ")\n",
        "enricher.fit(train_features,\n",
        "             train_target,\n",
        "             eval_set=[(test_features, test_target)]\n",
        "             )"
      ],
      "metadata": {
        "colab": {
          "base_uri": "https://localhost:8080/",
          "height": 1000
        },
        "id": "xjKOWVHK7Y1c",
        "outputId": "ae989aa6-5b13-4b85-d3d6-06323ff60382"
      },
      "execution_count": null,
      "outputs": [
        {
          "output_type": "display_data",
          "data": {
            "text/plain": [
              "<IPython.core.display.Javascript object>"
            ],
            "application/javascript": [
              "\n",
              "                        window.visitorId = import('https://openfpcdn.io/fingerprintjs/v3')\n",
              "                            .then(FingerprintJS => FingerprintJS.load())\n",
              "                            .then(fp => fp.get())\n",
              "                            .then(result => result.visitorId);\n",
              "                    "
            ]
          },
          "metadata": {}
        },
        {
          "output_type": "display_data",
          "data": {
            "text/plain": [
              "<IPython.core.display.Javascript object>"
            ],
            "application/javascript": [
              "\n",
              "                        window.visitorId = import('https://openfpcdn.io/fingerprintjs/v3')\n",
              "                            .then(FingerprintJS => FingerprintJS.load())\n",
              "                            .then(fp => fp.get())\n",
              "                            .then(result => result.visitorId);\n",
              "                    "
            ]
          },
          "metadata": {}
        },
        {
          "output_type": "display_data",
          "data": {
            "text/plain": [
              "<IPython.core.display.Javascript object>"
            ],
            "application/javascript": [
              "\n",
              "                        window.visitorId = import('https://openfpcdn.io/fingerprintjs/v3')\n",
              "                            .then(FingerprintJS => FingerprintJS.load())\n",
              "                            .then(fp => fp.get())\n",
              "                            .then(result => result.visitorId);\n",
              "                    "
            ]
          },
          "metadata": {}
        },
        {
          "output_type": "display_data",
          "data": {
            "text/plain": [
              "<IPython.core.display.Javascript object>"
            ],
            "application/javascript": [
              "\n",
              "                        window.visitorId = import('https://openfpcdn.io/fingerprintjs/v3')\n",
              "                            .then(FingerprintJS => FingerprintJS.load())\n",
              "                            .then(fp => fp.get())\n",
              "                            .then(result => result.visitorId);\n",
              "                    "
            ]
          },
          "metadata": {}
        },
        {
          "output_type": "display_data",
          "data": {
            "text/plain": [
              "<IPython.core.display.Javascript object>"
            ],
            "application/javascript": [
              "\n",
              "                        window.visitorId = import('https://openfpcdn.io/fingerprintjs/v3')\n",
              "                            .then(FingerprintJS => FingerprintJS.load())\n",
              "                            .then(fp => fp.get())\n",
              "                            .then(result => result.visitorId);\n",
              "                    "
            ]
          },
          "metadata": {}
        },
        {
          "output_type": "display_data",
          "data": {
            "text/plain": [
              "<IPython.core.display.Javascript object>"
            ],
            "application/javascript": [
              "\n",
              "                        window.visitorId = import('https://openfpcdn.io/fingerprintjs/v3')\n",
              "                            .then(FingerprintJS => FingerprintJS.load())\n",
              "                            .then(fp => fp.get())\n",
              "                            .then(result => result.visitorId);\n",
              "                    "
            ]
          },
          "metadata": {}
        },
        {
          "output_type": "stream",
          "name": "stdout",
          "text": [
            "\n",
            "WARNING: Search started with DATE search key only\n",
            "Try to add other keys like the COUNTRY, POSTAL_CODE, PHONE NUMBER, EMAIL/HEM, IPv4 to your training dataset\n",
            "for search through all the available data sources.\n",
            "See docs https://github.com/upgini/upgini#-total-239-countries-and-up-to-41-years-of-history\n"
          ]
        },
        {
          "output_type": "display_data",
          "data": {
            "text/plain": [
              "<IPython.core.display.Javascript object>"
            ],
            "application/javascript": [
              "\n",
              "                        window.visitorId = import('https://openfpcdn.io/fingerprintjs/v3')\n",
              "                            .then(FingerprintJS => FingerprintJS.load())\n",
              "                            .then(fp => fp.get())\n",
              "                            .then(result => result.visitorId);\n",
              "                    "
            ]
          },
          "metadata": {}
        },
        {
          "output_type": "display_data",
          "data": {
            "text/plain": [
              "<IPython.core.display.Javascript object>"
            ],
            "application/javascript": [
              "\n",
              "                        window.visitorId = import('https://openfpcdn.io/fingerprintjs/v3')\n",
              "                            .then(FingerprintJS => FingerprintJS.load())\n",
              "                            .then(fp => fp.get())\n",
              "                            .then(result => result.visitorId);\n",
              "                    "
            ]
          },
          "metadata": {}
        },
        {
          "output_type": "display_data",
          "data": {
            "text/plain": [
              "<IPython.core.display.Javascript object>"
            ],
            "application/javascript": [
              "\n",
              "                        window.visitorId = import('https://openfpcdn.io/fingerprintjs/v3')\n",
              "                            .then(FingerprintJS => FingerprintJS.load())\n",
              "                            .then(fp => fp.get())\n",
              "                            .then(result => result.visitorId);\n",
              "                    "
            ]
          },
          "metadata": {}
        },
        {
          "output_type": "stream",
          "name": "stdout",
          "text": [
            "Detected task type: ModelTaskType.REGRESSION\n",
            "\n"
          ]
        },
        {
          "output_type": "display_data",
          "data": {
            "text/plain": [
              "<IPython.core.display.Javascript object>"
            ],
            "application/javascript": [
              "\n",
              "                        window.visitorId = import('https://openfpcdn.io/fingerprintjs/v3')\n",
              "                            .then(FingerprintJS => FingerprintJS.load())\n",
              "                            .then(fp => fp.get())\n",
              "                            .then(result => result.visitorId);\n",
              "                    "
            ]
          },
          "metadata": {}
        },
        {
          "output_type": "display_data",
          "data": {
            "text/plain": [
              "<IPython.core.display.Javascript object>"
            ],
            "application/javascript": [
              "\n",
              "                        window.visitorId = import('https://openfpcdn.io/fingerprintjs/v3')\n",
              "                            .then(FingerprintJS => FingerprintJS.load())\n",
              "                            .then(fp => fp.get())\n",
              "                            .then(result => result.visitorId);\n",
              "                    "
            ]
          },
          "metadata": {}
        },
        {
          "output_type": "display_data",
          "data": {
            "text/plain": [
              "<IPython.core.display.Javascript object>"
            ],
            "application/javascript": [
              "\n",
              "                        window.visitorId = import('https://openfpcdn.io/fingerprintjs/v3')\n",
              "                            .then(FingerprintJS => FingerprintJS.load())\n",
              "                            .then(fp => fp.get())\n",
              "                            .then(result => result.visitorId);\n",
              "                    "
            ]
          },
          "metadata": {}
        },
        {
          "output_type": "display_data",
          "data": {
            "text/plain": [
              "<IPython.core.display.Javascript object>"
            ],
            "application/javascript": [
              "\n",
              "                        window.visitorId = import('https://openfpcdn.io/fingerprintjs/v3')\n",
              "                            .then(FingerprintJS => FingerprintJS.load())\n",
              "                            .then(fp => fp.get())\n",
              "                            .then(result => result.visitorId);\n",
              "                    "
            ]
          },
          "metadata": {}
        },
        {
          "output_type": "display_data",
          "data": {
            "text/plain": [
              "<IPython.core.display.Javascript object>"
            ],
            "application/javascript": [
              "\n",
              "                        window.visitorId = import('https://openfpcdn.io/fingerprintjs/v3')\n",
              "                            .then(FingerprintJS => FingerprintJS.load())\n",
              "                            .then(fp => fp.get())\n",
              "                            .then(result => result.visitorId);\n",
              "                    "
            ]
          },
          "metadata": {}
        },
        {
          "output_type": "display_data",
          "data": {
            "text/plain": [
              "<IPython.core.display.HTML object>"
            ],
            "text/html": [
              "<table><tr><th style='font-weight:bold'>Column name</th><th style='font-weight:bold'>Status</th><th style='font-weight:bold'>Errors</th></tr><tr><td>target</td><td style='background-color:#DAF7A6;color:black'>All valid</td><td>-</td></tr><tr><td>date</td><td style='background-color:#DAF7A6;color:black'>All valid</td><td>-</td></tr></table>"
            ]
          },
          "metadata": {}
        },
        {
          "output_type": "display_data",
          "data": {
            "text/plain": [
              "<IPython.core.display.Javascript object>"
            ],
            "application/javascript": [
              "\n",
              "                        window.visitorId = import('https://openfpcdn.io/fingerprintjs/v3')\n",
              "                            .then(FingerprintJS => FingerprintJS.load())\n",
              "                            .then(fp => fp.get())\n",
              "                            .then(result => result.visitorId);\n",
              "                    "
            ]
          },
          "metadata": {}
        },
        {
          "output_type": "display_data",
          "data": {
            "text/plain": [
              "<IPython.core.display.Javascript object>"
            ],
            "application/javascript": [
              "\n",
              "                        window.visitorId = import('https://openfpcdn.io/fingerprintjs/v3')\n",
              "                            .then(FingerprintJS => FingerprintJS.load())\n",
              "                            .then(fp => fp.get())\n",
              "                            .then(result => result.visitorId);\n",
              "                    "
            ]
          },
          "metadata": {}
        },
        {
          "output_type": "display_data",
          "data": {
            "text/plain": [
              "<IPython.core.display.Javascript object>"
            ],
            "application/javascript": [
              "\n",
              "                        window.clientIP = fetch(\"https://api.ipify.org\")\n",
              "                            .then(response => response.text())\n",
              "                            .then(data => data);\n",
              "                    "
            ]
          },
          "metadata": {}
        },
        {
          "output_type": "display_data",
          "data": {
            "text/plain": [
              "<IPython.core.display.Javascript object>"
            ],
            "application/javascript": [
              "\n",
              "                        window.clientIP = fetch(\"https://api.ipify.org\")\n",
              "                            .then(response => response.text())\n",
              "                            .then(data => data);\n",
              "                    "
            ]
          },
          "metadata": {}
        },
        {
          "output_type": "display_data",
          "data": {
            "text/plain": [
              "<IPython.core.display.Javascript object>"
            ],
            "application/javascript": [
              "\n",
              "                        window.clientIP = fetch(\"https://api.ipify.org\")\n",
              "                            .then(response => response.text())\n",
              "                            .then(data => data);\n",
              "                    "
            ]
          },
          "metadata": {}
        },
        {
          "output_type": "display_data",
          "data": {
            "text/plain": [
              "<IPython.core.display.Javascript object>"
            ],
            "application/javascript": [
              "\n",
              "                        window.clientIP = fetch(\"https://api.ipify.org\")\n",
              "                            .then(response => response.text())\n",
              "                            .then(data => data);\n",
              "                    "
            ]
          },
          "metadata": {}
        },
        {
          "output_type": "display_data",
          "data": {
            "text/plain": [
              "<IPython.core.display.Javascript object>"
            ],
            "application/javascript": [
              "\n",
              "                        window.clientIP = fetch(\"https://api.ipify.org\")\n",
              "                            .then(response => response.text())\n",
              "                            .then(data => data);\n",
              "                    "
            ]
          },
          "metadata": {}
        },
        {
          "output_type": "display_data",
          "data": {
            "text/plain": [
              "<IPython.core.display.Javascript object>"
            ],
            "application/javascript": [
              "\n",
              "                        window.clientIP = fetch(\"https://api.ipify.org\")\n",
              "                            .then(response => response.text())\n",
              "                            .then(data => data);\n",
              "                    "
            ]
          },
          "metadata": {}
        },
        {
          "output_type": "display_data",
          "data": {
            "text/plain": [
              "<IPython.core.display.Javascript object>"
            ],
            "application/javascript": [
              "\n",
              "                        window.clientIP = fetch(\"https://api.ipify.org\")\n",
              "                            .then(response => response.text())\n",
              "                            .then(data => data);\n",
              "                    "
            ]
          },
          "metadata": {}
        },
        {
          "output_type": "display_data",
          "data": {
            "text/plain": [
              "<IPython.core.display.Javascript object>"
            ],
            "application/javascript": [
              "\n",
              "                        window.clientIP = fetch(\"https://api.ipify.org\")\n",
              "                            .then(response => response.text())\n",
              "                            .then(data => data);\n",
              "                    "
            ]
          },
          "metadata": {}
        },
        {
          "output_type": "display_data",
          "data": {
            "text/plain": [
              "<IPython.core.display.Javascript object>"
            ],
            "application/javascript": [
              "\n",
              "                        window.clientIP = fetch(\"https://api.ipify.org\")\n",
              "                            .then(response => response.text())\n",
              "                            .then(data => data);\n",
              "                    "
            ]
          },
          "metadata": {}
        },
        {
          "output_type": "display_data",
          "data": {
            "text/plain": [
              "<IPython.core.display.Javascript object>"
            ],
            "application/javascript": [
              "\n",
              "                        window.clientIP = fetch(\"https://api.ipify.org\")\n",
              "                            .then(response => response.text())\n",
              "                            .then(data => data);\n",
              "                    "
            ]
          },
          "metadata": {}
        },
        {
          "output_type": "display_data",
          "data": {
            "text/plain": [
              "<IPython.core.display.Javascript object>"
            ],
            "application/javascript": [
              "\n",
              "                        window.clientIP = fetch(\"https://api.ipify.org\")\n",
              "                            .then(response => response.text())\n",
              "                            .then(data => data);\n",
              "                    "
            ]
          },
          "metadata": {}
        },
        {
          "output_type": "display_data",
          "data": {
            "text/plain": [
              "<IPython.core.display.Javascript object>"
            ],
            "application/javascript": [
              "\n",
              "                        window.clientIP = fetch(\"https://api.ipify.org\")\n",
              "                            .then(response => response.text())\n",
              "                            .then(data => data);\n",
              "                    "
            ]
          },
          "metadata": {}
        },
        {
          "output_type": "display_data",
          "data": {
            "text/plain": [
              "<IPython.core.display.Javascript object>"
            ],
            "application/javascript": [
              "\n",
              "                        window.clientIP = fetch(\"https://api.ipify.org\")\n",
              "                            .then(response => response.text())\n",
              "                            .then(data => data);\n",
              "                    "
            ]
          },
          "metadata": {}
        },
        {
          "output_type": "display_data",
          "data": {
            "text/plain": [
              "<IPython.core.display.Javascript object>"
            ],
            "application/javascript": [
              "\n",
              "                        window.clientIP = fetch(\"https://api.ipify.org\")\n",
              "                            .then(response => response.text())\n",
              "                            .then(data => data);\n",
              "                    "
            ]
          },
          "metadata": {}
        },
        {
          "output_type": "display_data",
          "data": {
            "text/plain": [
              "<IPython.core.display.Javascript object>"
            ],
            "application/javascript": [
              "\n",
              "                        window.clientIP = fetch(\"https://api.ipify.org\")\n",
              "                            .then(response => response.text())\n",
              "                            .then(data => data);\n",
              "                    "
            ]
          },
          "metadata": {}
        },
        {
          "output_type": "display_data",
          "data": {
            "text/plain": [
              "<IPython.core.display.Javascript object>"
            ],
            "application/javascript": [
              "\n",
              "                        window.clientIP = fetch(\"https://api.ipify.org\")\n",
              "                            .then(response => response.text())\n",
              "                            .then(data => data);\n",
              "                    "
            ]
          },
          "metadata": {}
        },
        {
          "output_type": "stream",
          "name": "stdout",
          "text": [
            "\n",
            "Running search request, search_id=116d8e8e-ff26-498b-b89e-26652c4dd99d\n",
            "We'll send email notification once it's completed, just use your personal api_key from profile.upgini.com\n",
            "\n",
            "\u001b[92m\u001b[1m\n",
            "24 relevant feature(s) found with the search keys: ['date']\u001b[0m\n"
          ]
        },
        {
          "output_type": "display_data",
          "data": {
            "text/plain": [
              "<IPython.core.display.HTML object>"
            ],
            "text/html": [
              "<style>\n",
              "            .upgini-df thead th {\n",
              "                font-weight:bold;\n",
              "                text-align: right;\n",
              "                padding: 0.5em;\n",
              "            }\n",
              "\n",
              "            .upgini-df td {\n",
              "                padding: 0.5em;\n",
              "            }\n",
              "\n",
              "            .upgini-text {\n",
              "                text-align: right;\n",
              "            }\n",
              "\n",
              "            .upgini-number {\n",
              "                text-align: center;\n",
              "            }\n",
              "        </style><table class='upgini-df'><thead><th>Provider</th><th>Source</th><th>Feature name</th><th>SHAP value</th><th>Coverage %</th><th>Type</th><th>Feature type</th></thead><tbody><tr><td class='upgini-text'></td><td class='upgini-text'></td><td class='upgini-text'>item</td><td class='upgini-number'>0.590452</td><td class='upgini-number'>100.000000</td><td class='upgini-text'>categorical</td><td class='upgini-text'></td></tr><tr><td class='upgini-text'></td><td class='upgini-text'></td><td class='upgini-text'>store</td><td class='upgini-number'>0.200864</td><td class='upgini-number'>100.000000</td><td class='upgini-text'>categorical</td><td class='upgini-text'></td></tr><tr><td class='upgini-text'><a href='https://upgini.com' target='_blank' rel='noopener noreferrer'>Upgini</a></td><td class='upgini-text'><a href='https://upgini.com/#data_sources' target='_blank' rel='noopener noreferrer'>Public data</a></td><td class='upgini-text'><a href='https://docs.upgini.com/public/weather/weather_umap#f_weather_date_weather_umap_31_fa6d9a99' target='_blank' rel='noopener noreferrer'>f_weather_date_weather_umap_31_fa6d9a99</a></td><td class='upgini-number'>0.039431</td><td class='upgini-number'>100.000000</td><td class='upgini-text'>numerical</td><td class='upgini-text'>Free</td></tr><tr><td class='upgini-text'><a href='https://upgini.com' target='_blank' rel='noopener noreferrer'>Upgini</a></td><td class='upgini-text'><a href='https://upgini.com/#data_sources' target='_blank' rel='noopener noreferrer'>Public data</a></td><td class='upgini-text'><a href='https://docs.upgini.com/public/calendar/calendar#f_events_date_week_sin1_847b5db1' target='_blank' rel='noopener noreferrer'>f_events_date_week_sin1_847b5db1</a></td><td class='upgini-number'>0.032182</td><td class='upgini-number'>100.000000</td><td class='upgini-text'>numerical</td><td class='upgini-text'>Free</td></tr><tr><td class='upgini-text'><a href='https://upgini.com' target='_blank' rel='noopener noreferrer'>Upgini</a></td><td class='upgini-text'><a href='https://upgini.com/#data_sources' target='_blank' rel='noopener noreferrer'>Public data</a></td><td class='upgini-text'><a href='https://docs.upgini.com/public/weather/weather_umap#f_weather_date_weather_umap_48_b39cd0c4' target='_blank' rel='noopener noreferrer'>f_weather_date_weather_umap_48_b39cd0c4</a></td><td class='upgini-number'>0.030379</td><td class='upgini-number'>100.000000</td><td class='upgini-text'>numerical</td><td class='upgini-text'>Free</td></tr><tr><td class='upgini-text'><a href='https://upgini.com' target='_blank' rel='noopener noreferrer'>Upgini</a></td><td class='upgini-text'><a href='https://upgini.com/#data_sources' target='_blank' rel='noopener noreferrer'>Public data</a></td><td class='upgini-text'><a href='https://docs.upgini.com/public/calendar/calendar#f_events_date_year_cos1_9014a856' target='_blank' rel='noopener noreferrer'>f_events_date_year_cos1_9014a856</a></td><td class='upgini-number'>0.030034</td><td class='upgini-number'>100.000000</td><td class='upgini-text'>numerical</td><td class='upgini-text'>Free</td></tr><tr><td class='upgini-text'><a href='https://upgini.com' target='_blank' rel='noopener noreferrer'>Upgini</a></td><td class='upgini-text'><a href='https://upgini.com/#data_sources' target='_blank' rel='noopener noreferrer'>Public data</a></td><td class='upgini-text'><a href='https://docs.upgini.com/public/weather/weather_pca#f_weather_date_weather_pca_0_d7e0a1fc' target='_blank' rel='noopener noreferrer'>f_weather_date_weather_pca_0_d7e0a1fc</a></td><td class='upgini-number'>0.012436</td><td class='upgini-number'>100.000000</td><td class='upgini-text'>numerical</td><td class='upgini-text'>Free</td></tr><tr><td class='upgini-text'><a href='https://upgini.com' target='_blank' rel='noopener noreferrer'>Upgini</a></td><td class='upgini-text'><a href='https://upgini.com/#data_sources' target='_blank' rel='noopener noreferrer'>Public data</a></td><td class='upgini-text'><a href='https://docs.upgini.com/public/weather/weather_umap#f_weather_date_weather_umap_34_c3ef5b4f' target='_blank' rel='noopener noreferrer'>f_weather_date_weather_umap_34_c3ef5b4f</a></td><td class='upgini-number'>0.010964</td><td class='upgini-number'>100.000000</td><td class='upgini-text'>numerical</td><td class='upgini-text'>Free</td></tr><tr><td class='upgini-text'><a href='https://upgini.com' target='_blank' rel='noopener noreferrer'>Upgini</a></td><td class='upgini-text'><a href='https://upgini.com/#data_sources' target='_blank' rel='noopener noreferrer'>Public data</a></td><td class='upgini-text'><a href='https://docs.upgini.com/public/weather/weather_umap#f_weather_date_weather_umap_47_5123ef0a' target='_blank' rel='noopener noreferrer'>f_weather_date_weather_umap_47_5123ef0a</a></td><td class='upgini-number'>0.009575</td><td class='upgini-number'>100.000000</td><td class='upgini-text'>numerical</td><td class='upgini-text'>Free</td></tr><tr><td class='upgini-text'><a href='https://upgini.com' target='_blank' rel='noopener noreferrer'>Upgini</a></td><td class='upgini-text'><a href='https://upgini.com/#data_sources' target='_blank' rel='noopener noreferrer'>Public data</a></td><td class='upgini-text'><a href='https://docs.upgini.com/public/calendar/calendar#f_events_date_week_cos3_7525fe31' target='_blank' rel='noopener noreferrer'>f_events_date_week_cos3_7525fe31</a></td><td class='upgini-number'>0.009001</td><td class='upgini-number'>100.000000</td><td class='upgini-text'>numerical</td><td class='upgini-text'>Free</td></tr><tr><td class='upgini-text'><a href='https://upgini.com' target='_blank' rel='noopener noreferrer'>Upgini</a></td><td class='upgini-text'><a href='https://upgini.com/#data_sources' target='_blank' rel='noopener noreferrer'>Public data</a></td><td class='upgini-text'><a href='https://docs.upgini.com/public/weather/weather_umap#f_weather_date_weather_umap_13_842ae1fc' target='_blank' rel='noopener noreferrer'>f_weather_date_weather_umap_13_842ae1fc</a></td><td class='upgini-number'>0.006389</td><td class='upgini-number'>100.000000</td><td class='upgini-text'>numerical</td><td class='upgini-text'>Free</td></tr><tr><td class='upgini-text'><a href='https://upgini.com' target='_blank' rel='noopener noreferrer'>Upgini</a></td><td class='upgini-text'><a href='https://upgini.com/#data_sources' target='_blank' rel='noopener noreferrer'>Public data</a></td><td class='upgini-text'><a href='https://docs.upgini.com/public/weather/weather_umap#f_weather_date_weather_umap_33_89bb7578' target='_blank' rel='noopener noreferrer'>f_weather_date_weather_umap_33_89bb7578</a></td><td class='upgini-number'>0.004422</td><td class='upgini-number'>100.000000</td><td class='upgini-text'>numerical</td><td class='upgini-text'>Free</td></tr><tr><td class='upgini-text'><a href='https://upgini.com' target='_blank' rel='noopener noreferrer'>Upgini</a></td><td class='upgini-text'><a href='https://upgini.com/#data_sources' target='_blank' rel='noopener noreferrer'>Public data</a></td><td class='upgini-text'><a href='https://docs.upgini.com/public/weather/weather_umap#f_weather_date_weather_umap_16_25ac8b87' target='_blank' rel='noopener noreferrer'>f_weather_date_weather_umap_16_25ac8b87</a></td><td class='upgini-number'>0.002860</td><td class='upgini-number'>100.000000</td><td class='upgini-text'>numerical</td><td class='upgini-text'>Free</td></tr><tr><td class='upgini-text'><a href='https://upgini.com' target='_blank' rel='noopener noreferrer'>Upgini</a></td><td class='upgini-text'><a href='https://upgini.com/#data_sources' target='_blank' rel='noopener noreferrer'>Public data</a></td><td class='upgini-text'><a href='https://docs.upgini.com/public/markets/finance#f_financial_date_silver_7d_to_7d_1y_shift_55fa8001' target='_blank' rel='noopener noreferrer'>f_financial_date_silver_7d_to_7d_1y_shift_55fa8001</a></td><td class='upgini-number'>0.002481</td><td class='upgini-number'>100.000000</td><td class='upgini-text'>numerical</td><td class='upgini-text'>Free</td></tr><tr><td class='upgini-text'><a href='https://upgini.com' target='_blank' rel='noopener noreferrer'>Upgini</a></td><td class='upgini-text'><a href='https://upgini.com/#data_sources' target='_blank' rel='noopener noreferrer'>Public data</a></td><td class='upgini-text'><a href='https://docs.upgini.com/public/weather/weather_umap#f_weather_date_weather_umap_1_68679173' target='_blank' rel='noopener noreferrer'>f_weather_date_weather_umap_1_68679173</a></td><td class='upgini-number'>0.002370</td><td class='upgini-number'>100.000000</td><td class='upgini-text'>numerical</td><td class='upgini-text'>Free</td></tr><tr><td class='upgini-text'><a href='https://upgini.com' target='_blank' rel='noopener noreferrer'>Upgini</a></td><td class='upgini-text'><a href='https://upgini.com/#data_sources' target='_blank' rel='noopener noreferrer'>Public data</a></td><td class='upgini-text'><a href='https://docs.upgini.com/public/markets/finance#f_financial_date_nasdaq_7d_to_1y_b00bfaa7' target='_blank' rel='noopener noreferrer'>f_financial_date_nasdaq_7d_to_1y_b00bfaa7</a></td><td class='upgini-number'>0.001659</td><td class='upgini-number'>100.000000</td><td class='upgini-text'>numerical</td><td class='upgini-text'>Free</td></tr><tr><td class='upgini-text'><a href='https://upgini.com' target='_blank' rel='noopener noreferrer'>Upgini</a></td><td class='upgini-text'><a href='https://upgini.com/#data_sources' target='_blank' rel='noopener noreferrer'>Public data</a></td><td class='upgini-text'><a href='https://docs.upgini.com/public/weather/weather_pca#f_weather_date_weather_pca_1_9e4af931' target='_blank' rel='noopener noreferrer'>f_weather_date_weather_pca_1_9e4af931</a></td><td class='upgini-number'>0.000987</td><td class='upgini-number'>100.000000</td><td class='upgini-text'>numerical</td><td class='upgini-text'>Free</td></tr><tr><td class='upgini-text'><a href='https://upgini.com' target='_blank' rel='noopener noreferrer'>Upgini</a></td><td class='upgini-text'><a href='https://upgini.com/#data_sources' target='_blank' rel='noopener noreferrer'>Public data</a></td><td class='upgini-text'><a href='https://docs.upgini.com/public/markets/finance#f_financial_date_stoxx_043cbcd4' target='_blank' rel='noopener noreferrer'>f_financial_date_stoxx_043cbcd4</a></td><td class='upgini-number'>0.000954</td><td class='upgini-number'>100.000000</td><td class='upgini-text'>numerical</td><td class='upgini-text'>Free</td></tr><tr><td class='upgini-text'><a href='https://upgini.com' target='_blank' rel='noopener noreferrer'>Upgini</a></td><td class='upgini-text'><a href='https://upgini.com/#data_sources' target='_blank' rel='noopener noreferrer'>Public data</a></td><td class='upgini-text'><a href='https://docs.upgini.com/public/economics/cbpol_pca#f_economic_date_cbpol_pca_2_33d6e3fc' target='_blank' rel='noopener noreferrer'>f_economic_date_cbpol_pca_2_33d6e3fc</a></td><td class='upgini-number'>0.000798</td><td class='upgini-number'>100.000000</td><td class='upgini-text'>numerical</td><td class='upgini-text'>Free</td></tr><tr><td class='upgini-text'><a href='https://upgini.com' target='_blank' rel='noopener noreferrer'>Upgini</a></td><td class='upgini-text'><a href='https://upgini.com/#data_sources' target='_blank' rel='noopener noreferrer'>Public data</a></td><td class='upgini-text'><a href='https://docs.upgini.com/public/economics/cbpol_pca#f_economic_date_cbpol_pca_9_bde660b4' target='_blank' rel='noopener noreferrer'>f_economic_date_cbpol_pca_9_bde660b4</a></td><td class='upgini-number'>0.000728</td><td class='upgini-number'>100.000000</td><td class='upgini-text'>numerical</td><td class='upgini-text'>Free</td></tr><tr><td class='upgini-text'><a href='https://upgini.com' target='_blank' rel='noopener noreferrer'>Upgini</a></td><td class='upgini-text'><a href='https://upgini.com/#data_sources' target='_blank' rel='noopener noreferrer'>Public data</a></td><td class='upgini-text'><a href='https://docs.upgini.com/public/weather/weather_umap#f_weather_date_weather_umap_5_88023931' target='_blank' rel='noopener noreferrer'>f_weather_date_weather_umap_5_88023931</a></td><td class='upgini-number'>0.000617</td><td class='upgini-number'>100.000000</td><td class='upgini-text'>numerical</td><td class='upgini-text'>Free</td></tr><tr><td class='upgini-text'><a href='https://upgini.com' target='_blank' rel='noopener noreferrer'>Upgini</a></td><td class='upgini-text'><a href='https://upgini.com/#data_sources' target='_blank' rel='noopener noreferrer'>Public data</a></td><td class='upgini-text'><a href='https://docs.upgini.com/public/calendar/calendar#f_events_date_year_sin1_3c44bc64' target='_blank' rel='noopener noreferrer'>f_events_date_year_sin1_3c44bc64</a></td><td class='upgini-number'>0.000576</td><td class='upgini-number'>100.000000</td><td class='upgini-text'>numerical</td><td class='upgini-text'>Free</td></tr><tr><td class='upgini-text'><a href='https://upgini.com' target='_blank' rel='noopener noreferrer'>Upgini</a></td><td class='upgini-text'><a href='https://upgini.com/#data_sources' target='_blank' rel='noopener noreferrer'>Public data</a></td><td class='upgini-text'><a href='https://docs.upgini.com/public/economics/cbpol_umap#f_economic_date_cbpol_umap_4_c5ce4e90' target='_blank' rel='noopener noreferrer'>f_economic_date_cbpol_umap_4_c5ce4e90</a></td><td class='upgini-number'>0.000320</td><td class='upgini-number'>100.000000</td><td class='upgini-text'>numerical</td><td class='upgini-text'>Free</td></tr><tr><td class='upgini-text'><a href='https://upgini.com' target='_blank' rel='noopener noreferrer'>Upgini</a></td><td class='upgini-text'><a href='https://upgini.com/#data_sources' target='_blank' rel='noopener noreferrer'>Public data</a></td><td class='upgini-text'><a href='https://docs.upgini.com/public/economics/cci_pca#f_economic_date_cci_pca_3_10646e17' target='_blank' rel='noopener noreferrer'>f_economic_date_cci_pca_3_10646e17</a></td><td class='upgini-number'>0.000299</td><td class='upgini-number'>100.000000</td><td class='upgini-text'>numerical</td><td class='upgini-text'>Free</td></tr><tr><td class='upgini-text'><a href='https://upgini.com' target='_blank' rel='noopener noreferrer'>Upgini</a></td><td class='upgini-text'><a href='https://upgini.com/#data_sources' target='_blank' rel='noopener noreferrer'>Public data</a></td><td class='upgini-text'><a href='https://docs.upgini.com/public/economics/cpi_umap#f_economic_date_cpi_umap_7_20d961e2' target='_blank' rel='noopener noreferrer'>f_economic_date_cpi_umap_7_20d961e2</a></td><td class='upgini-number'>0.000266</td><td class='upgini-number'>100.000000</td><td class='upgini-text'>numerical</td><td class='upgini-text'>Free</td></tr><tr><td class='upgini-text'><a href='https://upgini.com' target='_blank' rel='noopener noreferrer'>Upgini</a></td><td class='upgini-text'><a href='https://upgini.com/#data_sources' target='_blank' rel='noopener noreferrer'>Public data</a></td><td class='upgini-text'><a href='https://docs.upgini.com/public/weather/weather_umap#f_weather_date_weather_umap_14_63480984' target='_blank' rel='noopener noreferrer'>f_weather_date_weather_umap_14_63480984</a></td><td class='upgini-number'>0.000214</td><td class='upgini-number'>100.000000</td><td class='upgini-text'>numerical</td><td class='upgini-text'>Free</td></tr></tbody></table>"
            ]
          },
          "metadata": {}
        },
        {
          "output_type": "stream",
          "name": "stdout",
          "text": [
            "We detected 113 outliers in your sample.\n",
            "Examples of outliers with maximum value of target:\n",
            "84    205\n",
            "47    196\n",
            "38    187\n",
            "Name: target, dtype: int64\n",
            "Outliers will be excluded during the metrics calculation.\n",
            "Before dropping target outliers size: 19000\n",
            "After dropping target outliers size: 18887\n",
            "Calculating accuracy uplift after enrichment...\n",
            "\n",
            "WARNING: y distributions from the training sample and eval_set differ according to the Kolmogorov-Smirnov test,\n",
            "which makes metrics between the train and eval_set incomparable.\n",
            "\u001b[92m\u001b[1m\n",
            "Quality metrics\u001b[0m\n"
          ]
        },
        {
          "output_type": "display_data",
          "data": {
            "text/plain": [
              "         Rows  Baseline mean_squared_error  Enriched mean_squared_error  \\\n",
              "                                                                          \n",
              "Train   15148                   309.990498                   190.800456   \n",
              "Eval 1   3739                   509.289740                   371.455111   \n",
              "\n",
              "            Uplift  \n",
              "                    \n",
              "Train   119.190041  \n",
              "Eval 1  137.834629  "
            ],
            "text/html": [
              "\n",
              "  <div id=\"df-6a6aec03-37f0-4e56-8f9d-ec64b5c51471\">\n",
              "    <div class=\"colab-df-container\">\n",
              "      <div>\n",
              "<style scoped>\n",
              "    .dataframe tbody tr th:only-of-type {\n",
              "        vertical-align: middle;\n",
              "    }\n",
              "\n",
              "    .dataframe tbody tr th {\n",
              "        vertical-align: top;\n",
              "    }\n",
              "\n",
              "    .dataframe thead th {\n",
              "        text-align: right;\n",
              "    }\n",
              "</style>\n",
              "<table border=\"1\" class=\"dataframe\">\n",
              "  <thead>\n",
              "    <tr style=\"text-align: right;\">\n",
              "      <th></th>\n",
              "      <th>Rows</th>\n",
              "      <th>Baseline mean_squared_error</th>\n",
              "      <th>Enriched mean_squared_error</th>\n",
              "      <th>Uplift</th>\n",
              "    </tr>\n",
              "    <tr>\n",
              "      <th></th>\n",
              "      <th></th>\n",
              "      <th></th>\n",
              "      <th></th>\n",
              "      <th></th>\n",
              "    </tr>\n",
              "  </thead>\n",
              "  <tbody>\n",
              "    <tr>\n",
              "      <th>Train</th>\n",
              "      <td>15148</td>\n",
              "      <td>309.990498</td>\n",
              "      <td>190.800456</td>\n",
              "      <td>119.190041</td>\n",
              "    </tr>\n",
              "    <tr>\n",
              "      <th>Eval 1</th>\n",
              "      <td>3739</td>\n",
              "      <td>509.289740</td>\n",
              "      <td>371.455111</td>\n",
              "      <td>137.834629</td>\n",
              "    </tr>\n",
              "  </tbody>\n",
              "</table>\n",
              "</div>\n",
              "      <button class=\"colab-df-convert\" onclick=\"convertToInteractive('df-6a6aec03-37f0-4e56-8f9d-ec64b5c51471')\"\n",
              "              title=\"Convert this dataframe to an interactive table.\"\n",
              "              style=\"display:none;\">\n",
              "        \n",
              "  <svg xmlns=\"http://www.w3.org/2000/svg\" height=\"24px\"viewBox=\"0 0 24 24\"\n",
              "       width=\"24px\">\n",
              "    <path d=\"M0 0h24v24H0V0z\" fill=\"none\"/>\n",
              "    <path d=\"M18.56 5.44l.94 2.06.94-2.06 2.06-.94-2.06-.94-.94-2.06-.94 2.06-2.06.94zm-11 1L8.5 8.5l.94-2.06 2.06-.94-2.06-.94L8.5 2.5l-.94 2.06-2.06.94zm10 10l.94 2.06.94-2.06 2.06-.94-2.06-.94-.94-2.06-.94 2.06-2.06.94z\"/><path d=\"M17.41 7.96l-1.37-1.37c-.4-.4-.92-.59-1.43-.59-.52 0-1.04.2-1.43.59L10.3 9.45l-7.72 7.72c-.78.78-.78 2.05 0 2.83L4 21.41c.39.39.9.59 1.41.59.51 0 1.02-.2 1.41-.59l7.78-7.78 2.81-2.81c.8-.78.8-2.07 0-2.86zM5.41 20L4 18.59l7.72-7.72 1.47 1.35L5.41 20z\"/>\n",
              "  </svg>\n",
              "      </button>\n",
              "      \n",
              "  <style>\n",
              "    .colab-df-container {\n",
              "      display:flex;\n",
              "      flex-wrap:wrap;\n",
              "      gap: 12px;\n",
              "    }\n",
              "\n",
              "    .colab-df-convert {\n",
              "      background-color: #E8F0FE;\n",
              "      border: none;\n",
              "      border-radius: 50%;\n",
              "      cursor: pointer;\n",
              "      display: none;\n",
              "      fill: #1967D2;\n",
              "      height: 32px;\n",
              "      padding: 0 0 0 0;\n",
              "      width: 32px;\n",
              "    }\n",
              "\n",
              "    .colab-df-convert:hover {\n",
              "      background-color: #E2EBFA;\n",
              "      box-shadow: 0px 1px 2px rgba(60, 64, 67, 0.3), 0px 1px 3px 1px rgba(60, 64, 67, 0.15);\n",
              "      fill: #174EA6;\n",
              "    }\n",
              "\n",
              "    [theme=dark] .colab-df-convert {\n",
              "      background-color: #3B4455;\n",
              "      fill: #D2E3FC;\n",
              "    }\n",
              "\n",
              "    [theme=dark] .colab-df-convert:hover {\n",
              "      background-color: #434B5C;\n",
              "      box-shadow: 0px 1px 3px 1px rgba(0, 0, 0, 0.15);\n",
              "      filter: drop-shadow(0px 1px 2px rgba(0, 0, 0, 0.3));\n",
              "      fill: #FFFFFF;\n",
              "    }\n",
              "  </style>\n",
              "\n",
              "      <script>\n",
              "        const buttonEl =\n",
              "          document.querySelector('#df-6a6aec03-37f0-4e56-8f9d-ec64b5c51471 button.colab-df-convert');\n",
              "        buttonEl.style.display =\n",
              "          google.colab.kernel.accessAllowed ? 'block' : 'none';\n",
              "\n",
              "        async function convertToInteractive(key) {\n",
              "          const element = document.querySelector('#df-6a6aec03-37f0-4e56-8f9d-ec64b5c51471');\n",
              "          const dataTable =\n",
              "            await google.colab.kernel.invokeFunction('convertToInteractive',\n",
              "                                                     [key], {});\n",
              "          if (!dataTable) return;\n",
              "\n",
              "          const docLinkHtml = 'Like what you see? Visit the ' +\n",
              "            '<a target=\"_blank\" href=https://colab.research.google.com/notebooks/data_table.ipynb>data table notebook</a>'\n",
              "            + ' to learn more about interactive tables.';\n",
              "          element.innerHTML = '';\n",
              "          dataTable['output_type'] = 'display_data';\n",
              "          await google.colab.output.renderOutput(dataTable, element);\n",
              "          const docLink = document.createElement('div');\n",
              "          docLink.innerHTML = docLinkHtml;\n",
              "          element.appendChild(docLink);\n",
              "        }\n",
              "      </script>\n",
              "    </div>\n",
              "  </div>\n",
              "  "
            ]
          },
          "metadata": {}
        }
      ]
    },
    {
      "cell_type": "code",
      "source": [
        "from catboost import CatBoostRegressor\n",
        "from catboost.utils import eval_metric\n",
        "\n",
        "model = CatBoostRegressor(verbose=False, allow_writing_files=False, random_state=0)\n",
        "\n",
        "enricher.calculate_metrics(\n",
        "    train_features, train_target,\n",
        "    eval_set = [(test_features, test_target)],\n",
        "    estimator = model,\n",
        "    scoring = \"mean_absolute_percentage_error\"\n",
        ")"
      ],
      "metadata": {
        "colab": {
          "base_uri": "https://localhost:8080/",
          "height": 196
        },
        "id": "TecbfCCb-uxo",
        "outputId": "25143123-49b3-47ae-f7ee-ad9c281ba586"
      },
      "execution_count": null,
      "outputs": [
        {
          "output_type": "stream",
          "name": "stdout",
          "text": [
            "Calculating accuracy uplift after enrichment...\n",
            "-\r\n",
            "WARNING: y distributions from the training sample and eval_set differ according to the Kolmogorov-Smirnov test,\n",
            "which makes metrics between the train and eval_set incomparable.\n"
          ]
        },
        {
          "output_type": "execute_result",
          "data": {
            "text/plain": [
              "         Rows  Baseline mean_absolute_percentage_error  \\\n",
              "                                                         \n",
              "Train   15148                                 0.255109   \n",
              "Eval 1   3739                                 0.270377   \n",
              "\n",
              "        Enriched mean_absolute_percentage_error    Uplift  \n",
              "                                                           \n",
              "Train                                  0.153784  0.101325  \n",
              "Eval 1                                 0.198137  0.072241  "
            ],
            "text/html": [
              "\n",
              "  <div id=\"df-37f2e745-0633-4bb1-83da-36b7eb0c1a5a\">\n",
              "    <div class=\"colab-df-container\">\n",
              "      <div>\n",
              "<style scoped>\n",
              "    .dataframe tbody tr th:only-of-type {\n",
              "        vertical-align: middle;\n",
              "    }\n",
              "\n",
              "    .dataframe tbody tr th {\n",
              "        vertical-align: top;\n",
              "    }\n",
              "\n",
              "    .dataframe thead th {\n",
              "        text-align: right;\n",
              "    }\n",
              "</style>\n",
              "<table border=\"1\" class=\"dataframe\">\n",
              "  <thead>\n",
              "    <tr style=\"text-align: right;\">\n",
              "      <th></th>\n",
              "      <th>Rows</th>\n",
              "      <th>Baseline mean_absolute_percentage_error</th>\n",
              "      <th>Enriched mean_absolute_percentage_error</th>\n",
              "      <th>Uplift</th>\n",
              "    </tr>\n",
              "    <tr>\n",
              "      <th></th>\n",
              "      <th></th>\n",
              "      <th></th>\n",
              "      <th></th>\n",
              "      <th></th>\n",
              "    </tr>\n",
              "  </thead>\n",
              "  <tbody>\n",
              "    <tr>\n",
              "      <th>Train</th>\n",
              "      <td>15148</td>\n",
              "      <td>0.255109</td>\n",
              "      <td>0.153784</td>\n",
              "      <td>0.101325</td>\n",
              "    </tr>\n",
              "    <tr>\n",
              "      <th>Eval 1</th>\n",
              "      <td>3739</td>\n",
              "      <td>0.270377</td>\n",
              "      <td>0.198137</td>\n",
              "      <td>0.072241</td>\n",
              "    </tr>\n",
              "  </tbody>\n",
              "</table>\n",
              "</div>\n",
              "      <button class=\"colab-df-convert\" onclick=\"convertToInteractive('df-37f2e745-0633-4bb1-83da-36b7eb0c1a5a')\"\n",
              "              title=\"Convert this dataframe to an interactive table.\"\n",
              "              style=\"display:none;\">\n",
              "        \n",
              "  <svg xmlns=\"http://www.w3.org/2000/svg\" height=\"24px\"viewBox=\"0 0 24 24\"\n",
              "       width=\"24px\">\n",
              "    <path d=\"M0 0h24v24H0V0z\" fill=\"none\"/>\n",
              "    <path d=\"M18.56 5.44l.94 2.06.94-2.06 2.06-.94-2.06-.94-.94-2.06-.94 2.06-2.06.94zm-11 1L8.5 8.5l.94-2.06 2.06-.94-2.06-.94L8.5 2.5l-.94 2.06-2.06.94zm10 10l.94 2.06.94-2.06 2.06-.94-2.06-.94-.94-2.06-.94 2.06-2.06.94z\"/><path d=\"M17.41 7.96l-1.37-1.37c-.4-.4-.92-.59-1.43-.59-.52 0-1.04.2-1.43.59L10.3 9.45l-7.72 7.72c-.78.78-.78 2.05 0 2.83L4 21.41c.39.39.9.59 1.41.59.51 0 1.02-.2 1.41-.59l7.78-7.78 2.81-2.81c.8-.78.8-2.07 0-2.86zM5.41 20L4 18.59l7.72-7.72 1.47 1.35L5.41 20z\"/>\n",
              "  </svg>\n",
              "      </button>\n",
              "      \n",
              "  <style>\n",
              "    .colab-df-container {\n",
              "      display:flex;\n",
              "      flex-wrap:wrap;\n",
              "      gap: 12px;\n",
              "    }\n",
              "\n",
              "    .colab-df-convert {\n",
              "      background-color: #E8F0FE;\n",
              "      border: none;\n",
              "      border-radius: 50%;\n",
              "      cursor: pointer;\n",
              "      display: none;\n",
              "      fill: #1967D2;\n",
              "      height: 32px;\n",
              "      padding: 0 0 0 0;\n",
              "      width: 32px;\n",
              "    }\n",
              "\n",
              "    .colab-df-convert:hover {\n",
              "      background-color: #E2EBFA;\n",
              "      box-shadow: 0px 1px 2px rgba(60, 64, 67, 0.3), 0px 1px 3px 1px rgba(60, 64, 67, 0.15);\n",
              "      fill: #174EA6;\n",
              "    }\n",
              "\n",
              "    [theme=dark] .colab-df-convert {\n",
              "      background-color: #3B4455;\n",
              "      fill: #D2E3FC;\n",
              "    }\n",
              "\n",
              "    [theme=dark] .colab-df-convert:hover {\n",
              "      background-color: #434B5C;\n",
              "      box-shadow: 0px 1px 3px 1px rgba(0, 0, 0, 0.15);\n",
              "      filter: drop-shadow(0px 1px 2px rgba(0, 0, 0, 0.3));\n",
              "      fill: #FFFFFF;\n",
              "    }\n",
              "  </style>\n",
              "\n",
              "      <script>\n",
              "        const buttonEl =\n",
              "          document.querySelector('#df-37f2e745-0633-4bb1-83da-36b7eb0c1a5a button.colab-df-convert');\n",
              "        buttonEl.style.display =\n",
              "          google.colab.kernel.accessAllowed ? 'block' : 'none';\n",
              "\n",
              "        async function convertToInteractive(key) {\n",
              "          const element = document.querySelector('#df-37f2e745-0633-4bb1-83da-36b7eb0c1a5a');\n",
              "          const dataTable =\n",
              "            await google.colab.kernel.invokeFunction('convertToInteractive',\n",
              "                                                     [key], {});\n",
              "          if (!dataTable) return;\n",
              "\n",
              "          const docLinkHtml = 'Like what you see? Visit the ' +\n",
              "            '<a target=\"_blank\" href=https://colab.research.google.com/notebooks/data_table.ipynb>data table notebook</a>'\n",
              "            + ' to learn more about interactive tables.';\n",
              "          element.innerHTML = '';\n",
              "          dataTable['output_type'] = 'display_data';\n",
              "          await google.colab.output.renderOutput(dataTable, element);\n",
              "          const docLink = document.createElement('div');\n",
              "          docLink.innerHTML = docLinkHtml;\n",
              "          element.appendChild(docLink);\n",
              "        }\n",
              "      </script>\n",
              "    </div>\n",
              "  </div>\n",
              "  "
            ]
          },
          "metadata": {},
          "execution_count": 7
        }
      ]
    },
    {
      "cell_type": "code",
      "source": [
        "enriched_train_features = enricher.transform(train_features, keep_input=True)\n",
        "enriched_test_features = enricher.transform(test_features, keep_input=True)\n",
        "enriched_train_features.head()"
      ],
      "metadata": {
        "colab": {
          "base_uri": "https://localhost:8080/",
          "height": 823
        },
        "id": "dTTxA9Qz_nmh",
        "outputId": "6d8bc796-6baf-46bf-e56d-dfa7b1e28b31"
      },
      "execution_count": null,
      "outputs": [
        {
          "output_type": "stream",
          "name": "stdout",
          "text": [
            "\n",
            "WARNING: Search started with DATE search key only\n",
            "Try to add other keys like the COUNTRY, POSTAL_CODE, PHONE NUMBER, EMAIL/HEM, IPv4 to your training dataset\n",
            "for search through all the available data sources.\n",
            "See docs https://github.com/upgini/upgini#-total-239-countries-and-up-to-41-years-of-history\n"
          ]
        },
        {
          "output_type": "display_data",
          "data": {
            "text/plain": [
              "<IPython.core.display.HTML object>"
            ],
            "text/html": [
              "<table><tr><th style='font-weight:bold'>Column name</th><th style='font-weight:bold'>Status</th><th style='font-weight:bold'>Errors</th></tr><tr><td>date</td><td style='background-color:#DAF7A6;color:black'>All valid</td><td>-</td></tr></table>"
            ]
          },
          "metadata": {}
        },
        {
          "output_type": "stream",
          "name": "stdout",
          "text": [
            "\n",
            "Running search request, search_id=7b9fcd1a-6fcf-4dbd-adf4-9ea842d95015\n",
            "We'll send email notification once it's completed, just use your personal api_key from profile.upgini.com\n",
            "\n",
            "Retrieving selected features from data sources...\n",
            "\n",
            "WARNING: Search started with DATE search key only\n",
            "Try to add other keys like the COUNTRY, POSTAL_CODE, PHONE NUMBER, EMAIL/HEM, IPv4 to your training dataset\n",
            "for search through all the available data sources.\n",
            "See docs https://github.com/upgini/upgini#-total-239-countries-and-up-to-41-years-of-history\n"
          ]
        },
        {
          "output_type": "display_data",
          "data": {
            "text/plain": [
              "<IPython.core.display.HTML object>"
            ],
            "text/html": [
              "<table><tr><th style='font-weight:bold'>Column name</th><th style='font-weight:bold'>Status</th><th style='font-weight:bold'>Errors</th></tr><tr><td>date</td><td style='background-color:#DAF7A6;color:black'>All valid</td><td>-</td></tr></table>"
            ]
          },
          "metadata": {}
        },
        {
          "output_type": "stream",
          "name": "stdout",
          "text": [
            "\n",
            "Running search request, search_id=67e4e710-b92b-4b09-a129-a68d20152836\n",
            "We'll send email notification once it's completed, just use your personal api_key from profile.upgini.com\n",
            "\n",
            "Retrieving selected features from data sources...\n"
          ]
        },
        {
          "output_type": "execute_result",
          "data": {
            "text/plain": [
              "        date store item  f_weather_date_weather_umap_31_fa6d9a99  \\\n",
              "0 2013-01-01     7    5                                 4.712653   \n",
              "1 2013-01-01     4    9                                 4.712653   \n",
              "2 2013-01-01     1   33                                 4.712653   \n",
              "3 2013-01-01     3   41                                 4.712653   \n",
              "4 2013-01-01     5   24                                 4.712653   \n",
              "\n",
              "   f_events_date_week_sin1_847b5db1  f_weather_date_weather_umap_48_b39cd0c4  \\\n",
              "0                          0.781831                                 4.540985   \n",
              "1                          0.781831                                 4.540985   \n",
              "2                          0.781831                                 4.540985   \n",
              "3                          0.781831                                 4.540985   \n",
              "4                          0.781831                                 4.540985   \n",
              "\n",
              "   f_events_date_year_cos1_9014a856  f_weather_date_weather_pca_0_d7e0a1fc  \\\n",
              "0                           0.98522                              29.676683   \n",
              "1                           0.98522                              29.676683   \n",
              "2                           0.98522                              29.676683   \n",
              "3                           0.98522                              29.676683   \n",
              "4                           0.98522                              29.676683   \n",
              "\n",
              "   f_weather_date_weather_umap_34_c3ef5b4f  \\\n",
              "0                                 5.664261   \n",
              "1                                 5.664261   \n",
              "2                                 5.664261   \n",
              "3                                 5.664261   \n",
              "4                                 5.664261   \n",
              "\n",
              "   f_weather_date_weather_umap_47_5123ef0a  ...  \\\n",
              "0                                 5.927147  ...   \n",
              "1                                 5.927147  ...   \n",
              "2                                 5.927147  ...   \n",
              "3                                 5.927147  ...   \n",
              "4                                 5.927147  ...   \n",
              "\n",
              "   f_weather_date_weather_pca_1_9e4af931  f_financial_date_stoxx_043cbcd4  \\\n",
              "0                             -11.349669                       278.779999   \n",
              "1                             -11.349669                       278.779999   \n",
              "2                             -11.349669                       278.779999   \n",
              "3                             -11.349669                       278.779999   \n",
              "4                             -11.349669                       278.779999   \n",
              "\n",
              "   f_economic_date_cbpol_pca_2_33d6e3fc  f_economic_date_cbpol_pca_9_bde660b4  \\\n",
              "0                             -0.938709                             -0.332055   \n",
              "1                             -0.938709                             -0.332055   \n",
              "2                             -0.938709                             -0.332055   \n",
              "3                             -0.938709                             -0.332055   \n",
              "4                             -0.938709                             -0.332055   \n",
              "\n",
              "   f_weather_date_weather_umap_5_88023931  f_events_date_year_sin1_3c44bc64  \\\n",
              "0                                4.586665                          0.171293   \n",
              "1                                4.586665                          0.171293   \n",
              "2                                4.586665                          0.171293   \n",
              "3                                4.586665                          0.171293   \n",
              "4                                4.586665                          0.171293   \n",
              "\n",
              "   f_economic_date_cbpol_umap_4_c5ce4e90  f_economic_date_cci_pca_3_10646e17  \\\n",
              "0                               4.006054                           -1.962578   \n",
              "1                               4.006054                           -1.962578   \n",
              "2                               4.006054                           -1.962578   \n",
              "3                               4.006054                           -1.962578   \n",
              "4                               4.006054                           -1.962578   \n",
              "\n",
              "   f_economic_date_cpi_umap_7_20d961e2  \\\n",
              "0                            12.812381   \n",
              "1                            12.812381   \n",
              "2                            12.812381   \n",
              "3                            12.812381   \n",
              "4                            12.812381   \n",
              "\n",
              "   f_weather_date_weather_umap_14_63480984  \n",
              "0                                 5.366709  \n",
              "1                                 5.366709  \n",
              "2                                 5.366709  \n",
              "3                                 5.366709  \n",
              "4                                 5.366709  \n",
              "\n",
              "[5 rows x 27 columns]"
            ],
            "text/html": [
              "\n",
              "  <div id=\"df-35bd8579-b879-488c-9a61-3b52abe8e707\">\n",
              "    <div class=\"colab-df-container\">\n",
              "      <div>\n",
              "<style scoped>\n",
              "    .dataframe tbody tr th:only-of-type {\n",
              "        vertical-align: middle;\n",
              "    }\n",
              "\n",
              "    .dataframe tbody tr th {\n",
              "        vertical-align: top;\n",
              "    }\n",
              "\n",
              "    .dataframe thead th {\n",
              "        text-align: right;\n",
              "    }\n",
              "</style>\n",
              "<table border=\"1\" class=\"dataframe\">\n",
              "  <thead>\n",
              "    <tr style=\"text-align: right;\">\n",
              "      <th></th>\n",
              "      <th>date</th>\n",
              "      <th>store</th>\n",
              "      <th>item</th>\n",
              "      <th>f_weather_date_weather_umap_31_fa6d9a99</th>\n",
              "      <th>f_events_date_week_sin1_847b5db1</th>\n",
              "      <th>f_weather_date_weather_umap_48_b39cd0c4</th>\n",
              "      <th>f_events_date_year_cos1_9014a856</th>\n",
              "      <th>f_weather_date_weather_pca_0_d7e0a1fc</th>\n",
              "      <th>f_weather_date_weather_umap_34_c3ef5b4f</th>\n",
              "      <th>f_weather_date_weather_umap_47_5123ef0a</th>\n",
              "      <th>...</th>\n",
              "      <th>f_weather_date_weather_pca_1_9e4af931</th>\n",
              "      <th>f_financial_date_stoxx_043cbcd4</th>\n",
              "      <th>f_economic_date_cbpol_pca_2_33d6e3fc</th>\n",
              "      <th>f_economic_date_cbpol_pca_9_bde660b4</th>\n",
              "      <th>f_weather_date_weather_umap_5_88023931</th>\n",
              "      <th>f_events_date_year_sin1_3c44bc64</th>\n",
              "      <th>f_economic_date_cbpol_umap_4_c5ce4e90</th>\n",
              "      <th>f_economic_date_cci_pca_3_10646e17</th>\n",
              "      <th>f_economic_date_cpi_umap_7_20d961e2</th>\n",
              "      <th>f_weather_date_weather_umap_14_63480984</th>\n",
              "    </tr>\n",
              "  </thead>\n",
              "  <tbody>\n",
              "    <tr>\n",
              "      <th>0</th>\n",
              "      <td>2013-01-01</td>\n",
              "      <td>7</td>\n",
              "      <td>5</td>\n",
              "      <td>4.712653</td>\n",
              "      <td>0.781831</td>\n",
              "      <td>4.540985</td>\n",
              "      <td>0.98522</td>\n",
              "      <td>29.676683</td>\n",
              "      <td>5.664261</td>\n",
              "      <td>5.927147</td>\n",
              "      <td>...</td>\n",
              "      <td>-11.349669</td>\n",
              "      <td>278.779999</td>\n",
              "      <td>-0.938709</td>\n",
              "      <td>-0.332055</td>\n",
              "      <td>4.586665</td>\n",
              "      <td>0.171293</td>\n",
              "      <td>4.006054</td>\n",
              "      <td>-1.962578</td>\n",
              "      <td>12.812381</td>\n",
              "      <td>5.366709</td>\n",
              "    </tr>\n",
              "    <tr>\n",
              "      <th>1</th>\n",
              "      <td>2013-01-01</td>\n",
              "      <td>4</td>\n",
              "      <td>9</td>\n",
              "      <td>4.712653</td>\n",
              "      <td>0.781831</td>\n",
              "      <td>4.540985</td>\n",
              "      <td>0.98522</td>\n",
              "      <td>29.676683</td>\n",
              "      <td>5.664261</td>\n",
              "      <td>5.927147</td>\n",
              "      <td>...</td>\n",
              "      <td>-11.349669</td>\n",
              "      <td>278.779999</td>\n",
              "      <td>-0.938709</td>\n",
              "      <td>-0.332055</td>\n",
              "      <td>4.586665</td>\n",
              "      <td>0.171293</td>\n",
              "      <td>4.006054</td>\n",
              "      <td>-1.962578</td>\n",
              "      <td>12.812381</td>\n",
              "      <td>5.366709</td>\n",
              "    </tr>\n",
              "    <tr>\n",
              "      <th>2</th>\n",
              "      <td>2013-01-01</td>\n",
              "      <td>1</td>\n",
              "      <td>33</td>\n",
              "      <td>4.712653</td>\n",
              "      <td>0.781831</td>\n",
              "      <td>4.540985</td>\n",
              "      <td>0.98522</td>\n",
              "      <td>29.676683</td>\n",
              "      <td>5.664261</td>\n",
              "      <td>5.927147</td>\n",
              "      <td>...</td>\n",
              "      <td>-11.349669</td>\n",
              "      <td>278.779999</td>\n",
              "      <td>-0.938709</td>\n",
              "      <td>-0.332055</td>\n",
              "      <td>4.586665</td>\n",
              "      <td>0.171293</td>\n",
              "      <td>4.006054</td>\n",
              "      <td>-1.962578</td>\n",
              "      <td>12.812381</td>\n",
              "      <td>5.366709</td>\n",
              "    </tr>\n",
              "    <tr>\n",
              "      <th>3</th>\n",
              "      <td>2013-01-01</td>\n",
              "      <td>3</td>\n",
              "      <td>41</td>\n",
              "      <td>4.712653</td>\n",
              "      <td>0.781831</td>\n",
              "      <td>4.540985</td>\n",
              "      <td>0.98522</td>\n",
              "      <td>29.676683</td>\n",
              "      <td>5.664261</td>\n",
              "      <td>5.927147</td>\n",
              "      <td>...</td>\n",
              "      <td>-11.349669</td>\n",
              "      <td>278.779999</td>\n",
              "      <td>-0.938709</td>\n",
              "      <td>-0.332055</td>\n",
              "      <td>4.586665</td>\n",
              "      <td>0.171293</td>\n",
              "      <td>4.006054</td>\n",
              "      <td>-1.962578</td>\n",
              "      <td>12.812381</td>\n",
              "      <td>5.366709</td>\n",
              "    </tr>\n",
              "    <tr>\n",
              "      <th>4</th>\n",
              "      <td>2013-01-01</td>\n",
              "      <td>5</td>\n",
              "      <td>24</td>\n",
              "      <td>4.712653</td>\n",
              "      <td>0.781831</td>\n",
              "      <td>4.540985</td>\n",
              "      <td>0.98522</td>\n",
              "      <td>29.676683</td>\n",
              "      <td>5.664261</td>\n",
              "      <td>5.927147</td>\n",
              "      <td>...</td>\n",
              "      <td>-11.349669</td>\n",
              "      <td>278.779999</td>\n",
              "      <td>-0.938709</td>\n",
              "      <td>-0.332055</td>\n",
              "      <td>4.586665</td>\n",
              "      <td>0.171293</td>\n",
              "      <td>4.006054</td>\n",
              "      <td>-1.962578</td>\n",
              "      <td>12.812381</td>\n",
              "      <td>5.366709</td>\n",
              "    </tr>\n",
              "  </tbody>\n",
              "</table>\n",
              "<p>5 rows × 27 columns</p>\n",
              "</div>\n",
              "      <button class=\"colab-df-convert\" onclick=\"convertToInteractive('df-35bd8579-b879-488c-9a61-3b52abe8e707')\"\n",
              "              title=\"Convert this dataframe to an interactive table.\"\n",
              "              style=\"display:none;\">\n",
              "        \n",
              "  <svg xmlns=\"http://www.w3.org/2000/svg\" height=\"24px\"viewBox=\"0 0 24 24\"\n",
              "       width=\"24px\">\n",
              "    <path d=\"M0 0h24v24H0V0z\" fill=\"none\"/>\n",
              "    <path d=\"M18.56 5.44l.94 2.06.94-2.06 2.06-.94-2.06-.94-.94-2.06-.94 2.06-2.06.94zm-11 1L8.5 8.5l.94-2.06 2.06-.94-2.06-.94L8.5 2.5l-.94 2.06-2.06.94zm10 10l.94 2.06.94-2.06 2.06-.94-2.06-.94-.94-2.06-.94 2.06-2.06.94z\"/><path d=\"M17.41 7.96l-1.37-1.37c-.4-.4-.92-.59-1.43-.59-.52 0-1.04.2-1.43.59L10.3 9.45l-7.72 7.72c-.78.78-.78 2.05 0 2.83L4 21.41c.39.39.9.59 1.41.59.51 0 1.02-.2 1.41-.59l7.78-7.78 2.81-2.81c.8-.78.8-2.07 0-2.86zM5.41 20L4 18.59l7.72-7.72 1.47 1.35L5.41 20z\"/>\n",
              "  </svg>\n",
              "      </button>\n",
              "      \n",
              "  <style>\n",
              "    .colab-df-container {\n",
              "      display:flex;\n",
              "      flex-wrap:wrap;\n",
              "      gap: 12px;\n",
              "    }\n",
              "\n",
              "    .colab-df-convert {\n",
              "      background-color: #E8F0FE;\n",
              "      border: none;\n",
              "      border-radius: 50%;\n",
              "      cursor: pointer;\n",
              "      display: none;\n",
              "      fill: #1967D2;\n",
              "      height: 32px;\n",
              "      padding: 0 0 0 0;\n",
              "      width: 32px;\n",
              "    }\n",
              "\n",
              "    .colab-df-convert:hover {\n",
              "      background-color: #E2EBFA;\n",
              "      box-shadow: 0px 1px 2px rgba(60, 64, 67, 0.3), 0px 1px 3px 1px rgba(60, 64, 67, 0.15);\n",
              "      fill: #174EA6;\n",
              "    }\n",
              "\n",
              "    [theme=dark] .colab-df-convert {\n",
              "      background-color: #3B4455;\n",
              "      fill: #D2E3FC;\n",
              "    }\n",
              "\n",
              "    [theme=dark] .colab-df-convert:hover {\n",
              "      background-color: #434B5C;\n",
              "      box-shadow: 0px 1px 3px 1px rgba(0, 0, 0, 0.15);\n",
              "      filter: drop-shadow(0px 1px 2px rgba(0, 0, 0, 0.3));\n",
              "      fill: #FFFFFF;\n",
              "    }\n",
              "  </style>\n",
              "\n",
              "      <script>\n",
              "        const buttonEl =\n",
              "          document.querySelector('#df-35bd8579-b879-488c-9a61-3b52abe8e707 button.colab-df-convert');\n",
              "        buttonEl.style.display =\n",
              "          google.colab.kernel.accessAllowed ? 'block' : 'none';\n",
              "\n",
              "        async function convertToInteractive(key) {\n",
              "          const element = document.querySelector('#df-35bd8579-b879-488c-9a61-3b52abe8e707');\n",
              "          const dataTable =\n",
              "            await google.colab.kernel.invokeFunction('convertToInteractive',\n",
              "                                                     [key], {});\n",
              "          if (!dataTable) return;\n",
              "\n",
              "          const docLinkHtml = 'Like what you see? Visit the ' +\n",
              "            '<a target=\"_blank\" href=https://colab.research.google.com/notebooks/data_table.ipynb>data table notebook</a>'\n",
              "            + ' to learn more about interactive tables.';\n",
              "          element.innerHTML = '';\n",
              "          dataTable['output_type'] = 'display_data';\n",
              "          await google.colab.output.renderOutput(dataTable, element);\n",
              "          const docLink = document.createElement('div');\n",
              "          docLink.innerHTML = docLinkHtml;\n",
              "          element.appendChild(docLink);\n",
              "        }\n",
              "      </script>\n",
              "    </div>\n",
              "  </div>\n",
              "  "
            ]
          },
          "metadata": {},
          "execution_count": 8
        }
      ]
    },
    {
      "cell_type": "code",
      "source": [
        "model.fit(train_features, train_target)\n",
        "preds = model.predict(test_features)\n",
        "eval_metric(test_target.values, preds, \"SMAPE\")"
      ],
      "metadata": {
        "colab": {
          "base_uri": "https://localhost:8080/"
        },
        "id": "37zGhPv3B9Ws",
        "outputId": "a1549147-6991-467f-ec50-93729c0a2065"
      },
      "execution_count": null,
      "outputs": [
        {
          "output_type": "execute_result",
          "data": {
            "text/plain": [
              "[37.65141857448004]"
            ]
          },
          "metadata": {},
          "execution_count": 9
        }
      ]
    },
    {
      "cell_type": "code",
      "source": [
        "model.fit(enriched_train_features, train_target)\n",
        "enriched_preds = model.predict(enriched_test_features)\n",
        "eval_metric(test_target.values, enriched_preds, \"SMAPE\")"
      ],
      "metadata": {
        "colab": {
          "base_uri": "https://localhost:8080/"
        },
        "id": "yFSo92-gExFy",
        "outputId": "fe425e88-65ee-4030-ebdb-76cc53128b73"
      },
      "execution_count": null,
      "outputs": [
        {
          "output_type": "execute_result",
          "data": {
            "text/plain": [
              "[14.917664559455615]"
            ]
          },
          "metadata": {},
          "execution_count": 10
        }
      ]
    }
  ]
}